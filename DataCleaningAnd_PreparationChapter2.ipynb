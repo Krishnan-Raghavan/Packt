{
  "nbformat": 4,
  "nbformat_minor": 0,
  "metadata": {
    "colab": {
      "provenance": [],
      "authorship_tag": "ABX9TyNB2f7wqJnY8OJHFm0GsRsU",
      "include_colab_link": true
    },
    "kernelspec": {
      "name": "python3",
      "display_name": "Python 3"
    },
    "language_info": {
      "name": "python"
    }
  },
  "cells": [
    {
      "cell_type": "markdown",
      "metadata": {
        "id": "view-in-github",
        "colab_type": "text"
      },
      "source": [
        "<a href=\"https://colab.research.google.com/github/Krishnan-Raghavan/Packt/blob/main/DataCleaningAnd_PreparationChapter2.ipynb\" target=\"_parent\"><img src=\"https://colab.research.google.com/assets/colab-badge.svg\" alt=\"Open In Colab\"/></a>"
      ]
    },
    {
      "cell_type": "markdown",
      "source": [
        "Accuracy"
      ],
      "metadata": {
        "id": "8a5H7n6L6vKr"
      }
    },
    {
      "cell_type": "code",
      "execution_count": 1,
      "metadata": {
        "colab": {
          "base_uri": "https://localhost:8080/"
        },
        "id": "bcmW-jLB6nFb",
        "outputId": "03ea75e5-30cd-4244-af74-b80826754eb5"
      },
      "outputs": [
        {
          "output_type": "stream",
          "name": "stdout",
          "text": [
            "Accuracy Check:\n",
            "   Name    Age  Gender  City\n",
            "0  True   True    True  True\n",
            "1  True   True    True  True\n",
            "2  True  False    True  True\n",
            "3  True   True    True  True\n",
            "4  True   True    True  True\n",
            "\n",
            "Accuracy Percentage:\n",
            "Name      100.0\n",
            "Age        80.0\n",
            "Gender    100.0\n",
            "City      100.0\n",
            "dtype: float64\n"
          ]
        }
      ],
      "source": [
        "import pandas as pd\n",
        "\n",
        "# Sample dataset\n",
        "data = {\n",
        "    'Name': ['Alice', 'Bob', 'Charlie', 'David', 'Eve'],\n",
        "    'Age': [25, 30, 28, 28, 22],\n",
        "    'Gender': ['Female', 'Male', 'Male', 'Male', 'Female'],\n",
        "    'City': ['New York', 'Los Angeles', 'Chicago', 'New York', 'San Francisco']\n",
        "}\n",
        "\n",
        "# Reference dataset for accuracy comparison\n",
        "reference_data = {\n",
        "    'Name': ['Alice', 'Bob', 'Charlie', 'David', 'Eve'],\n",
        "    'Age': [25, 30, 29, 28, 22],\n",
        "    'Gender': ['Female', 'Male', 'Male', 'Male', 'Female'],\n",
        "    'City': ['New York', 'Los Angeles', 'Chicago', 'New York', 'San Francisco']\n",
        "}\n",
        "\n",
        "df = pd.DataFrame(data)\n",
        "reference_df = pd.DataFrame(reference_data)\n",
        "\n",
        "# Step 1: Import necessary libraries\n",
        "# We import the pandas library to work with the dataset.\n",
        "\n",
        "# Step 2: Create a sample dataset and a reference dataset\n",
        "# We create a sample dataset and a reference dataset with the same structure.\n",
        "\n",
        "# Step 3: Create DataFrames\n",
        "df = pd.DataFrame(data)\n",
        "reference_df = pd.DataFrame(reference_data)\n",
        "\n",
        "# Step 4: Compare data to the reference\n",
        "accuracy_check = df == reference_df\n",
        "\n",
        "# Step 5: Calculate accuracy percentage\n",
        "accuracy_percentage = accuracy_check.mean() * 100\n",
        "# We calculate the accuracy percentage by taking the mean of the accuracy check for each column and multiplying by 100.\n",
        "\n",
        "# Step 6: Display the accuracy results\n",
        "print(\"Accuracy Check:\")\n",
        "print(accuracy_check)\n",
        "print(\"\\nAccuracy Percentage:\")\n",
        "print(accuracy_percentage)"
      ]
    },
    {
      "cell_type": "markdown",
      "source": [
        "Completeness"
      ],
      "metadata": {
        "id": "pha1581o72jv"
      }
    },
    {
      "cell_type": "code",
      "source": [
        "import pandas as pd\n",
        "\n",
        "# Sample dataset\n",
        "data = {\n",
        "    'Name': ['Alice', 'Bob', 'Charlie', 'David', 'Eve'],\n",
        "    'Age': [25, 30, None, 28, 22],\n",
        "    'Gender': ['Female', 'Male', 'Male', 'Male', 'Female'],\n",
        "    'City': ['New York', 'Los Angeles', 'Chicago', None, 'San Francisco']\n",
        "}\n",
        "\n",
        "df = pd.DataFrame(data)\n",
        "\n",
        "# Step 1: Import necessary libraries\n",
        "# We import the pandas library to work with the dataset.\n",
        "\n",
        "# Step 2: Create a sample dataset\n",
        "# We create a simple dataset with columns 'Name', 'Age', 'Gender', and 'City'. Some values are intentionally missing (represented as 'None').\n",
        "\n",
        "# Step 3: Create a DataFrame\n",
        "df = pd.DataFrame(data)\n",
        "# We create a DataFrame using the sample data.\n",
        "\n",
        "# Step 4: Check completeness\n",
        "completeness = df.isnull().sum()\n",
        "# The .isnull() method checks for missing values in the DataFrame, and .sum() counts the missing values for each column.\n",
        "\n",
        "# Step 5: Calculate completeness percentage\n",
        "total_records = len(df)\n",
        "completeness_percentage = (1- completeness / total_records) * 100\n",
        "# We calculate the completeness percentage by dividing the count of missing values by the total number of records and then multiplying by 100.\n",
        "\n",
        "# Step 6: Display the completeness results\n",
        "print(\"Completeness Check:\")\n",
        "print(completeness)\n",
        "print(\"\\nCompleteness Percentage:\")\n",
        "print(completeness_percentage)"
      ],
      "metadata": {
        "colab": {
          "base_uri": "https://localhost:8080/"
        },
        "id": "U9pJU70D8Fvy",
        "outputId": "d478b889-321d-4f0c-c6af-ba56ecd53c4c"
      },
      "execution_count": 2,
      "outputs": [
        {
          "output_type": "stream",
          "name": "stdout",
          "text": [
            "Completeness Check:\n",
            "Name      0\n",
            "Age       1\n",
            "Gender    0\n",
            "City      1\n",
            "dtype: int64\n",
            "\n",
            "Completeness Percentage:\n",
            "Name      100.0\n",
            "Age        80.0\n",
            "Gender    100.0\n",
            "City       80.0\n",
            "dtype: float64\n"
          ]
        }
      ]
    },
    {
      "cell_type": "markdown",
      "source": [
        "Timeliness"
      ],
      "metadata": {
        "id": "j0NEup8O8ZJs"
      }
    },
    {
      "cell_type": "code",
      "source": [
        "import pandas as pd\n",
        "from datetime import datetime\n",
        "\n",
        "# Sample dataset with timestamps\n",
        "data = {\n",
        "    'Timestamp': ['2023-10-25 10:00:00', '2023-10-25 11:00:00', '2023-10-25 12:00:00'],\n",
        "    'Value': [50, 55, 60]\n",
        "}\n",
        "\n",
        "# Convert the 'Timestamp' column to datetime objects\n",
        "df = pd.DataFrame(data)\n",
        "df['Timestamp'] = pd.to_datetime(df['Timestamp'])\n",
        "\n",
        "# Reference timestamp (current time for this example)\n",
        "reference_timestamp = datetime(2023, 10, 25, 12, 30, 0)\n",
        "\n",
        "# Step 1: Import necessary libraries and create the dataset\n",
        "# We import Pandas and the datetime module and create a sample dataset with timestamps.\n",
        "\n",
        "# Step 2: Convert timestamps to datetime objects\n",
        "# We convert the 'Timestamp' column to datetime objects to work with timestamps effectively.\n",
        "\n",
        "# Step 3: Define the reference timestamp\n",
        "# In this example, we set a reference timestamp, which represents the current time.\n",
        "\n",
        "# Step 4: Calculate timeliness\n",
        "timeliness_check = df['Timestamp'] < reference_timestamp\n",
        "\n",
        "# Step 5: Display timeliness results\n",
        "print(\"Timeliness Check:\")\n",
        "print(timeliness_check)"
      ],
      "metadata": {
        "colab": {
          "base_uri": "https://localhost:8080/"
        },
        "id": "x5ywv9yj8ani",
        "outputId": "19f9d518-2dbb-4504-f0b8-7ea657e0aeb2"
      },
      "execution_count": 3,
      "outputs": [
        {
          "output_type": "stream",
          "name": "stdout",
          "text": [
            "Timeliness Check:\n",
            "0    True\n",
            "1    True\n",
            "2    True\n",
            "Name: Timestamp, dtype: bool\n"
          ]
        }
      ]
    },
    {
      "cell_type": "markdown",
      "source": [
        "Average Timeliness"
      ],
      "metadata": {
        "id": "2wkTMLT28vw2"
      }
    },
    {
      "cell_type": "code",
      "source": [
        "import pandas as pd\n",
        "import numpy as np\n",
        "from datetime import datetime, timedelta\n",
        "\n",
        "# Generate a random dataset with timestamps\n",
        "np.random.seed(0)  # For reproducibility\n",
        "n_samples = 100\n",
        "start_time = datetime(2023, 10, 25, 9, 0, 0)\n",
        "end_time = datetime(2023, 10, 25, 16, 0, 0)\n",
        "\n",
        "timestamps = [start_time + timedelta(minutes=np.random.randint(0, (end_time - start_time).total_seconds() / 60)) for _ in range(n_samples)]\n",
        "values = np.random.randint(50, 101, n_samples)\n",
        "\n",
        "df = pd.DataFrame({'Timestamp': timestamps, 'Value': values})\n",
        "\n",
        "# Reference timestamp (current time for this example)\n",
        "reference_timestamp = datetime(2023, 10, 25, 12, 0, 0)\n",
        "\n",
        "# Define a timeliness threshold (in minutes)\n",
        "timeliness_threshold = 30\n",
        "\n",
        "# Calculate timeliness\n",
        "df['Timeliness'] = (reference_timestamp - df['Timestamp']).dt.total_seconds() / 60\n",
        "df['Timely'] = df['Timeliness'] <= timeliness_threshold\n",
        "\n",
        "# Calculate the average timeliness\n",
        "average_timeliness = df['Timeliness'].mean()\n",
        "\n",
        "# Display results\n",
        "print(\"Dataset with Timestamps:\")\n",
        "print(df.head())\n",
        "\n",
        "print(\"\\nAverage Timeliness (in minutes):\", average_timeliness)\n",
        "print(\"Percentage of Timely Records:\", (df['Timely'].sum() / n_samples) * 100, \"%\")"
      ],
      "metadata": {
        "colab": {
          "base_uri": "https://localhost:8080/"
        },
        "id": "totsryCt8xwU",
        "outputId": "88514b9d-5f39-4ac4-9856-e48a27059965"
      },
      "execution_count": 4,
      "outputs": [
        {
          "output_type": "stream",
          "name": "stdout",
          "text": [
            "Dataset with Timestamps:\n",
            "            Timestamp  Value  Timeliness  Timely\n",
            "0 2023-10-25 11:52:00     71         8.0    True\n",
            "1 2023-10-25 09:47:00     98       133.0   False\n",
            "2 2023-10-25 10:57:00     99        63.0   False\n",
            "3 2023-10-25 12:12:00     55       -12.0    True\n",
            "4 2023-10-25 14:23:00     91      -143.0    True\n",
            "\n",
            "Average Timeliness (in minutes): -23.8\n",
            "Percentage of Timely Records: 61.0 %\n"
          ]
        }
      ]
    },
    {
      "cell_type": "markdown",
      "source": [
        "Consistency"
      ],
      "metadata": {
        "id": "IU_RJ7Co9hfM"
      }
    },
    {
      "cell_type": "code",
      "source": [
        "import pandas as pd\n",
        "\n",
        "# Create a sample dataset\n",
        "data = {\n",
        "    'ProductID': [1, 2, 3, 4, 5],\n",
        "    'ProductName': ['PROD001', 'PROD002', 'Product003', 'PROD004', 'PROD005'],\n",
        "}\n",
        "\n",
        "df = pd.DataFrame(data)\n",
        "\n",
        "# Define the expected prefix\n",
        "expected_prefix = \"PROD\"\n",
        "\n",
        "# Check consistency and create a boolean mask for inconsistent names\n",
        "inconsistent_mask = ~df['ProductName'].str.startswith(expected_prefix)\n",
        "\n",
        "# Create a new column to indicate consistency\n",
        "df['Consistency'] = ~inconsistent_mask\n",
        "\n",
        "# Calculate the percentage of consistent rows\n",
        "consistent_percentage = (df['Consistency'].sum() / len(df)) * 100\n",
        "\n",
        "# Display the dataset with the consistency check results\n",
        "print(\"Dataset with Consistency Check:\")\n",
        "print(df)\n",
        "\n",
        "# Display the percentage of consistent rows\n",
        "print(f\"Percentage of Consistent Rows: {consistent_percentage:.2f}%\")"
      ],
      "metadata": {
        "colab": {
          "base_uri": "https://localhost:8080/"
        },
        "id": "SdMkKBTk9kVn",
        "outputId": "b36b1c3c-add0-4660-973a-e3fec6c85d23"
      },
      "execution_count": 5,
      "outputs": [
        {
          "output_type": "stream",
          "name": "stdout",
          "text": [
            "Dataset with Consistency Check:\n",
            "   ProductID ProductName  Consistency\n",
            "0          1     PROD001         True\n",
            "1          2     PROD002         True\n",
            "2          3  Product003        False\n",
            "3          4     PROD004         True\n",
            "4          5     PROD005         True\n",
            "Percentage of Consistent Rows: 80.00%\n"
          ]
        }
      ]
    },
    {
      "cell_type": "markdown",
      "source": [
        "Uniqueness"
      ],
      "metadata": {
        "id": "iqgcC3Tb9vfa"
      }
    },
    {
      "cell_type": "code",
      "source": [
        "import pandas as pd\n",
        "\n",
        "# Create a sample dataset\n",
        "data = {\n",
        "    'Email': ['john.doe@example.com', 'jane.smith@example.com', 'james.doe@example.com', 'susan.brown@example.com'],\n",
        "}\n",
        "\n",
        "df = pd.DataFrame(data)\n",
        "\n",
        "# Check uniqueness and create a boolean mask for duplicated email addresses\n",
        "duplicated_mask = df['Email'].duplicated(keep='first')\n",
        "\n",
        "# Create a new column to indicate uniqueness\n",
        "df['Uniqueness'] = ~duplicated_mask\n",
        "\n",
        "# Calculate the percentage of unique records\n",
        "unique_percentage = (df['Uniqueness'].sum() / len(df)) * 100\n",
        "\n",
        "# Display the dataset with the uniqueness check results\n",
        "print(\"Dataset with Uniqueness Check:\")\n",
        "print(df)\n",
        "\n",
        "# Display the percentage of unique records\n",
        "print(f\"Percentage of Unique Records: {unique_percentage:.2f}%\")"
      ],
      "metadata": {
        "colab": {
          "base_uri": "https://localhost:8080/"
        },
        "id": "Jq9V5vAd9yK6",
        "outputId": "0356a12f-b627-4ca4-bd4e-c293662f5690"
      },
      "execution_count": 6,
      "outputs": [
        {
          "output_type": "stream",
          "name": "stdout",
          "text": [
            "Dataset with Uniqueness Check:\n",
            "                     Email  Uniqueness\n",
            "0     john.doe@example.com        True\n",
            "1   jane.smith@example.com        True\n",
            "2    james.doe@example.com        True\n",
            "3  susan.brown@example.com        True\n",
            "Percentage of Unique Records: 100.00%\n"
          ]
        }
      ]
    },
    {
      "cell_type": "markdown",
      "source": [
        "Data Duplication"
      ],
      "metadata": {
        "id": "HCEzRJzV-I_8"
      }
    },
    {
      "cell_type": "code",
      "source": [
        "import pandas as pd\n",
        "\n",
        "# Create a sample dataset with duplicate records\n",
        "data = {\n",
        "    'EmployeeID': [101, 102, 103, 101, 104, 105, 102],\n",
        "    'FirstName': ['Alice', 'Bob', 'Charlie', 'David', 'Eve', 'Frank', 'Bob'],\n",
        "    'LastName': ['Smith', 'Johnson', 'Brown', 'Davis', 'Lee', 'White', 'Johnson'],\n",
        "}\n",
        "\n",
        "df = pd.DataFrame(data)\n",
        "\n",
        "# Check for duplicate records based on the 'EmployeeID' column\n",
        "duplicated_mask = df.duplicated(subset='EmployeeID', keep='first')\n",
        "\n",
        "# Create a new column to indicate duplicate records\n",
        "df['IsDuplicate'] = duplicated_mask\n",
        "\n",
        "# Calculate the percentage of duplicate records\n",
        "duplicate_percentage = (df['IsDuplicate'].sum() / len(df)) * 100\n",
        "\n",
        "# Display the dataset with the duplicate records marked\n",
        "print(\"Dataset with Duplicate Records:\")\n",
        "print(df)\n",
        "\n",
        "# Display the percentage of duplicate records\n",
        "print(f\"Percentage of Duplicate Records: {duplicate_percentage:.2f}%\")"
      ],
      "metadata": {
        "colab": {
          "base_uri": "https://localhost:8080/"
        },
        "id": "_xg9cBWt-KjL",
        "outputId": "e92e4397-cd39-4ba3-c7c6-83dbb074766c"
      },
      "execution_count": 7,
      "outputs": [
        {
          "output_type": "stream",
          "name": "stdout",
          "text": [
            "Dataset with Duplicate Records:\n",
            "   EmployeeID FirstName LastName  IsDuplicate\n",
            "0         101     Alice    Smith        False\n",
            "1         102       Bob  Johnson        False\n",
            "2         103   Charlie    Brown        False\n",
            "3         101     David    Davis         True\n",
            "4         104       Eve      Lee        False\n",
            "5         105     Frank    White        False\n",
            "6         102       Bob  Johnson         True\n",
            "Percentage of Duplicate Records: 28.57%\n"
          ]
        }
      ]
    },
    {
      "cell_type": "markdown",
      "source": [
        "Data Usage"
      ],
      "metadata": {
        "id": "WKv-7D12-VGU"
      }
    },
    {
      "cell_type": "code",
      "source": [
        "import random\n",
        "\n",
        "# Simulated data usage metrics\n",
        "def simulate_data_usage():\n",
        "    # Simulate the number of users in the organization\n",
        "    num_users = 500\n",
        "\n",
        "    # Simulate data utilization rates for each user (percentage)\n",
        "    data_utilization_rates = [random.uniform(20, 90) for _ in range(num_users)]\n",
        "\n",
        "    # Simulate the number of data requests or queries made by each user\n",
        "    data_requests = [random.randint(1, 100) for _ in range(num_users)]\n",
        "\n",
        "    # Calculate the overall data utilization rate for the organization\n",
        "    organization_data_utilization_rate = sum(data_utilization_rates) / num_users\n",
        "\n",
        "    # Calculate the total number of data requests or queries\n",
        "    total_data_requests = sum(data_requests)\n",
        "\n",
        "    # Simulate user satisfaction surveys (on a scale of 1 to 5)\n",
        "    user_satisfaction_scores = [random.randint(1, 5) for _ in range(num_users)]\n",
        "\n",
        "    # Calculate average user satisfaction score\n",
        "    avg_user_satisfaction_score = sum(user_satisfaction_scores) / num_users\n",
        "\n",
        "    return {\n",
        "        \"data_utilization_rates\": data_utilization_rates,\n",
        "        \"organization_data_utilization_rate\": organization_data_utilization_rate,\n",
        "        \"data_requests\": data_requests,\n",
        "        \"total_data_requests\": total_data_requests,\n",
        "        \"user_satisfaction_scores\": user_satisfaction_scores,\n",
        "        \"avg_user_satisfaction_score\": avg_user_satisfaction_score,\n",
        "    }\n",
        "\n",
        "# Run the simulation\n",
        "data_usage_metrics = simulate_data_usage()\n",
        "\n",
        "# Display the results\n",
        "print(\"\\nOrganization Data Utilization Rate:\")\n",
        "print(f\"{data_usage_metrics['organization_data_utilization_rate']:.2f}%\")\n",
        "print(\"\\nTotal Number of Data Requests or Queries:\")\n",
        "print(data_usage_metrics[\"total_data_requests\"])\n",
        "print(\"\\nAverage User Satisfaction Score:\")\n",
        "print(f\"{data_usage_metrics['avg_user_satisfaction_score']:.2f}\")"
      ],
      "metadata": {
        "colab": {
          "base_uri": "https://localhost:8080/"
        },
        "id": "1JQpr7TI-WkB",
        "outputId": "906289ad-0669-462f-890f-52e47b0439ec"
      },
      "execution_count": 8,
      "outputs": [
        {
          "output_type": "stream",
          "name": "stdout",
          "text": [
            "\n",
            "Organization Data Utilization Rate:\n",
            "55.12%\n",
            "\n",
            "Total Number of Data Requests or Queries:\n",
            "24967\n",
            "\n",
            "Average User Satisfaction Score:\n",
            "2.99\n"
          ]
        }
      ]
    },
    {
      "cell_type": "markdown",
      "source": [
        "Data Compliance"
      ],
      "metadata": {
        "id": "GCXtl6F7-ldM"
      }
    },
    {
      "cell_type": "code",
      "source": [
        "import random\n",
        "\n",
        "# Simulate a dataset with compliance checks\n",
        "def simulate_data_compliance(num_records):\n",
        "    data_records = []\n",
        "    compliant_count = 0  # Counter for compliant records\n",
        "\n",
        "    for _ in range(num_records):\n",
        "        # Generate a random record (e.g., containing age and consent fields)\n",
        "        age = random.randint(18, 100)\n",
        "        consent_given = random.choice([True, False])\n",
        "\n",
        "        # Define compliance rules\n",
        "        age_rule = age >= 18\n",
        "        consent_rule = age >= 18 and consent_given\n",
        "\n",
        "        # Check compliance with specific regulations\n",
        "        age_compliant = \"Age Compliant\" if age_rule else \"Age Non-Compliant\"\n",
        "        consent_compliant = \"Consent Compliant\" if consent_rule else \"Consent Non-Compliant\"\n",
        "\n",
        "        # Define overall compliance status\n",
        "        compliance_status = \"Compliant\" if age_rule and consent_rule else \"Non-Compliant\"\n",
        "\n",
        "        # Count compliant records\n",
        "        if compliance_status == \"Compliant\":\n",
        "            compliant_count += 1\n",
        "\n",
        "        data_records.append({\n",
        "            \"Age\": age,\n",
        "            \"Consent Given\": consent_given,\n",
        "            \"Age Compliance\": age_compliant,\n",
        "            \"Consent Compliance\": consent_compliant,\n",
        "            \"Overall Compliance Status\": compliance_status\n",
        "        })\n",
        "\n",
        "    # Calculate the percentage of compliant records\n",
        "    percentage_compliant = (compliant_count / num_records) * 100\n",
        "\n",
        "    return data_records, percentage_compliant\n",
        "\n",
        "# Define the number of data records to simulate\n",
        "num_records = 100\n",
        "\n",
        "# Simulate data compliance checks\n",
        "data_records, percentage_compliant = simulate_data_compliance(num_records)\n",
        "\n",
        "# Display the results for a sample of data records and the percentage of compliance\n",
        "sample_size = 10\n",
        "for record in data_records[:sample_size]:\n",
        "    print(record)\n",
        "\n",
        "print(f\"\\nPercentage of Compliant Records: {percentage_compliant:.2f}%\")"
      ],
      "metadata": {
        "colab": {
          "base_uri": "https://localhost:8080/"
        },
        "id": "Py4Pw2Ky-oEp",
        "outputId": "0773cc12-806a-4594-d6f5-a2092f087f52"
      },
      "execution_count": 9,
      "outputs": [
        {
          "output_type": "stream",
          "name": "stdout",
          "text": [
            "{'Age': 25, 'Consent Given': False, 'Age Compliance': 'Age Compliant', 'Consent Compliance': 'Consent Non-Compliant', 'Overall Compliance Status': 'Non-Compliant'}\n",
            "{'Age': 83, 'Consent Given': False, 'Age Compliance': 'Age Compliant', 'Consent Compliance': 'Consent Non-Compliant', 'Overall Compliance Status': 'Non-Compliant'}\n",
            "{'Age': 93, 'Consent Given': True, 'Age Compliance': 'Age Compliant', 'Consent Compliance': 'Consent Compliant', 'Overall Compliance Status': 'Compliant'}\n",
            "{'Age': 36, 'Consent Given': False, 'Age Compliance': 'Age Compliant', 'Consent Compliance': 'Consent Non-Compliant', 'Overall Compliance Status': 'Non-Compliant'}\n",
            "{'Age': 87, 'Consent Given': False, 'Age Compliance': 'Age Compliant', 'Consent Compliance': 'Consent Non-Compliant', 'Overall Compliance Status': 'Non-Compliant'}\n",
            "{'Age': 39, 'Consent Given': True, 'Age Compliance': 'Age Compliant', 'Consent Compliance': 'Consent Compliant', 'Overall Compliance Status': 'Compliant'}\n",
            "{'Age': 80, 'Consent Given': True, 'Age Compliance': 'Age Compliant', 'Consent Compliance': 'Consent Compliant', 'Overall Compliance Status': 'Compliant'}\n",
            "{'Age': 53, 'Consent Given': False, 'Age Compliance': 'Age Compliant', 'Consent Compliance': 'Consent Non-Compliant', 'Overall Compliance Status': 'Non-Compliant'}\n",
            "{'Age': 100, 'Consent Given': True, 'Age Compliance': 'Age Compliant', 'Consent Compliance': 'Consent Compliant', 'Overall Compliance Status': 'Compliant'}\n",
            "{'Age': 97, 'Consent Given': False, 'Age Compliance': 'Age Compliant', 'Consent Compliance': 'Consent Non-Compliant', 'Overall Compliance Status': 'Non-Compliant'}\n",
            "\n",
            "Percentage of Compliant Records: 49.00%\n"
          ]
        }
      ]
    }
  ]
}