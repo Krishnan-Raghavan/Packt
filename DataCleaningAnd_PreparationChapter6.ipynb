{
  "nbformat": 4,
  "nbformat_minor": 0,
  "metadata": {
    "colab": {
      "provenance": [],
      "authorship_tag": "ABX9TyPT1kfoImbj7nhaYbkdu0fm",
      "include_colab_link": true
    },
    "kernelspec": {
      "name": "python3",
      "display_name": "Python 3"
    },
    "language_info": {
      "name": "python"
    }
  },
  "cells": [
    {
      "cell_type": "markdown",
      "metadata": {
        "id": "view-in-github",
        "colab_type": "text"
      },
      "source": [
        "<a href=\"https://colab.research.google.com/github/Krishnan-Raghavan/Packt/blob/main/DataCleaningAnd_PreparationChapter6.ipynb\" target=\"_parent\"><img src=\"https://colab.research.google.com/assets/colab-badge.svg\" alt=\"Open In Colab\"/></a>"
      ]
    },
    {
      "cell_type": "markdown",
      "source": [
        "Data Grouping"
      ],
      "metadata": {
        "id": "XqYblJrayMxs"
      }
    },
    {
      "cell_type": "code",
      "execution_count": 1,
      "metadata": {
        "colab": {
          "base_uri": "https://localhost:8080/"
        },
        "id": "icaD2RgyyIlf",
        "outputId": "1c078f8d-aba7-4d14-cacf-ecd3e8eb98cd"
      },
      "outputs": [
        {
          "output_type": "stream",
          "name": "stdout",
          "text": [
            "_____________\n",
            "Sample df is shown below\n",
            "       Category Sub-Category Region  Sales        Date\n",
            "0   Electronics       Mobile  North    200  2023-01-01\n",
            "1   Electronics       Laptop  South    300  2023-01-02\n",
            "2   Electronics       Tablet   East    250  2023-01-03\n",
            "3   Electronics       Laptop   West    400  2023-01-04\n",
            "4     Furniture        Chair  North    150  2023-01-05\n",
            "5     Furniture        Table  South    350  2023-01-06\n",
            "6     Furniture         Desk   East    200  2023-01-07\n",
            "7     Furniture        Table   West    400  2023-01-08\n",
            "8      Clothing          Men  North    100  2023-01-09\n",
            "9      Clothing        Women  South    250  2023-01-10\n",
            "10     Clothing         Kids   East    150  2023-01-11\n",
            "11     Clothing          Men   West    300  2023-01-12\n",
            "12  Electronics       Mobile  North    220  2023-01-13\n",
            "13    Furniture        Chair   West    170  2023-01-14\n",
            "14     Clothing        Women   East    270  2023-01-15\n",
            "_____________\n",
            "Sales per Category are shown below:\n",
            "      Category  Sales\n",
            "0     Clothing   1070\n",
            "1  Electronics   1370\n",
            "2    Furniture   1270\n",
            "_____________\n",
            "Sales per Category and Region are shown below:\n",
            "       Category Region  Sales\n",
            "0      Clothing   East    420\n",
            "1      Clothing  North    100\n",
            "2      Clothing  South    250\n",
            "3      Clothing   West    300\n",
            "4   Electronics   East    250\n",
            "5   Electronics  North    420\n",
            "6   Electronics  South    300\n",
            "7   Electronics   West    400\n",
            "8     Furniture   East    200\n",
            "9     Furniture  North    150\n",
            "10    Furniture  South    350\n",
            "11    Furniture   West    570\n",
            "_____________\n",
            "Total and Mean Sales per Category and Region are shown below:\n",
            "       Category Region  sum   mean\n",
            "0      Clothing   East  420  210.0\n",
            "1      Clothing  North  100  100.0\n",
            "2      Clothing  South  250  250.0\n",
            "3      Clothing   West  300  300.0\n",
            "4   Electronics   East  250  250.0\n",
            "5   Electronics  North  420  210.0\n",
            "6   Electronics  South  300  300.0\n",
            "7   Electronics   West  400  400.0\n",
            "8     Furniture   East  200  200.0\n",
            "9     Furniture  North  150  150.0\n",
            "10    Furniture  South  350  350.0\n",
            "11    Furniture   West  570  285.0\n",
            "_____________\n",
            "Multiple column aggregations:\n",
            "       Category Region Sales              Sub-Category\n",
            "                         sum   mean count      nunique\n",
            "0      Clothing   East   420  210.0     2            2\n",
            "1      Clothing  North   100  100.0     1            1\n",
            "2      Clothing  South   250  250.0     1            1\n",
            "3      Clothing   West   300  300.0     1            1\n",
            "4   Electronics   East   250  250.0     1            1\n",
            "5   Electronics  North   420  210.0     2            1\n",
            "6   Electronics  South   300  300.0     1            1\n",
            "7   Electronics   West   400  400.0     1            1\n",
            "8     Furniture   East   200  200.0     1            1\n",
            "9     Furniture  North   150  150.0     1            1\n",
            "10    Furniture  South   350  350.0     1            1\n",
            "11    Furniture   West   570  285.0     2            2\n",
            "_____________\n",
            "Custom Aggregations:\n",
            "  Region  Total Sales  Average Sales  Number of Transactions  Sales Range  \\\n",
            "0   East          870          217.5                       4          120   \n",
            "1  North          670          167.5                       4          120   \n",
            "2  South          900          300.0                       3          100   \n",
            "3   West         1270          317.5                       4          230   \n",
            "\n",
            "   Coefficient of Variation  Unique Sub-Categories  \n",
            "0                  0.247238                      4  \n",
            "1                  0.321040                      3  \n",
            "2                  0.166667                      3  \n",
            "3                  0.343461                      4  \n",
            "  Region  Total Sales  Sales Range  Coefficient of Variation  \\\n",
            "0   East          870          120                  0.247238   \n",
            "1  North          670          120                  0.321040   \n",
            "2  South          900          100                  0.166667   \n",
            "3   West         1270          230                  0.343461   \n",
            "\n",
            "   Unique Sub-Categories  \n",
            "0                      4  \n",
            "1                      3  \n",
            "2                      3  \n",
            "3                      4  \n",
            "None\n"
          ]
        }
      ],
      "source": [
        "import pandas as pd\n",
        "\n",
        "# Extended sample sales data\n",
        "data = {\n",
        "    'Category': [\n",
        "        'Electronics', 'Electronics', 'Electronics', 'Electronics',\n",
        "        'Furniture', 'Furniture', 'Furniture', 'Furniture',\n",
        "        'Clothing', 'Clothing', 'Clothing', 'Clothing',\n",
        "        'Electronics', 'Furniture', 'Clothing'\n",
        "    ],\n",
        "    'Sub-Category': [\n",
        "        'Mobile', 'Laptop', 'Tablet', 'Laptop',\n",
        "        'Chair', 'Table', 'Desk', 'Table',\n",
        "        'Men', 'Women', 'Kids', 'Men',\n",
        "        'Mobile', 'Chair', 'Women'\n",
        "    ],\n",
        "    'Region': [\n",
        "        'North', 'South', 'East', 'West',\n",
        "        'North', 'South', 'East', 'West',\n",
        "        'North', 'South', 'East', 'West',\n",
        "        'North', 'West', 'East'\n",
        "    ],\n",
        "    'Sales': [\n",
        "        200, 300, 250, 400,\n",
        "        150, 350, 200, 400,\n",
        "        100, 250, 150, 300,\n",
        "        220, 170, 270\n",
        "    ],\n",
        "    'Date': [\n",
        "        '2023-01-01', '2023-01-02', '2023-01-03', '2023-01-04',\n",
        "        '2023-01-05', '2023-01-06', '2023-01-07', '2023-01-08',\n",
        "        '2023-01-09', '2023-01-10', '2023-01-11', '2023-01-12',\n",
        "        '2023-01-13', '2023-01-14', '2023-01-15'\n",
        "    ]\n",
        "}\n",
        "\n",
        "df = pd.DataFrame(data)\n",
        "print(\"_____________\")\n",
        "print(\"Sample df is shown below\")\n",
        "print(df)\n",
        "\n",
        "# Group by 'Category' and aggregate the 'Sales' column\n",
        "category_sales = df.groupby('Category')['Sales'].sum().reset_index()\n",
        "print(\"_____________\")\n",
        "print(\"Sales per Category are shown below:\")\n",
        "print(category_sales)\n",
        "\n",
        "# Group by 'Category' and 'Region' and aggregate the 'Sales' column\n",
        "category_region_sales = df.groupby(['Category', 'Region'])['Sales'].sum().reset_index()\n",
        "print(\"_____________\")\n",
        "print(\"Sales per Category and Region are shown below:\")\n",
        "print(category_region_sales)\n",
        "\n",
        "# Group by 'Category' and 'Region' and apply multiple aggregation functions\n",
        "print(\"_____________\")\n",
        "print(\"Total and Mean Sales per Category and Region are shown below:\")\n",
        "category_region_sales_agg = df.groupby(['Category', 'Region'])['Sales'].agg(['sum', 'mean']).reset_index()\n",
        "print(category_region_sales_agg)\n",
        "\n",
        "# Multiple column aggregations\n",
        "print(\"_____________\")\n",
        "print(\"Multiple column aggregations:\")\n",
        "advanced_agg = df.groupby(['Category', 'Region']).agg({\n",
        "    'Sales': ['sum', 'mean', 'count'],\n",
        "    'Sub-Category': 'nunique'  # Unique count of Sub-Category\n",
        "}).reset_index()\n",
        "print(advanced_agg)\n",
        "\n",
        "# ____________________________________________________________________\n",
        "# Define custom aggregation functions\n",
        "print(\"_____________\")\n",
        "print(\"Custom Aggregations:\")\n",
        "def range_sales(series):\n",
        "    return series.max() - series.min()\n",
        "\n",
        "def coefficient_of_variation(series):\n",
        "    return series.std() / series.mean()\n",
        "\n",
        "# Group by 'Category', 'Region', and apply multiple aggregations including custom functions\n",
        "advanced_agg_custom = df.groupby('Region').agg({\n",
        "    'Sales': ['sum', 'mean', 'count', range_sales, coefficient_of_variation],\n",
        "    'Sub-Category': 'nunique'\n",
        "}).reset_index()\n",
        "\n",
        "# Rename columns for clarity\n",
        "advanced_agg_custom.columns = [\n",
        "    'Region', 'Total Sales', 'Average Sales', 'Number of Transactions',\n",
        "    'Sales Range', 'Coefficient of Variation', 'Unique Sub-Categories'\n",
        "]\n",
        "\n",
        "print(advanced_agg_custom)\n",
        "print(# Displaying only the specified columns\n",
        "print(advanced_agg_custom[['Region',  'Total Sales', 'Sales Range', 'Coefficient of Variation', 'Unique Sub-Categories']]))"
      ]
    },
    {
      "cell_type": "markdown",
      "source": [
        "Use Case"
      ],
      "metadata": {
        "id": "hFCt484XzOEM"
      }
    },
    {
      "cell_type": "code",
      "source": [
        "import pandas as pd\n",
        "\n",
        "# Sample sales data\n",
        "data = {\n",
        "    'Category': ['Electronics', 'Electronics', 'Furniture', 'Furniture', 'Clothing', 'Clothing'],\n",
        "    'Sub-Category': ['Mobile', 'Laptop', 'Chair', 'Table', 'Men', 'Women'],\n",
        "    'Region': ['North', 'South', 'East', 'West', 'North', 'South'],\n",
        "    'Sales': [200, 300, 150, 350, 100, 250],\n",
        "    'Date': ['2023-01-01', '2023-01-02', '2023-01-03', '2023-01-04', '2023-01-05', '2023-01-06']\n",
        "}\n",
        "\n",
        "df = pd.DataFrame(data)\n",
        "print(df)"
      ],
      "metadata": {
        "colab": {
          "base_uri": "https://localhost:8080/"
        },
        "id": "4mRUFzJNzPXT",
        "outputId": "159aaa02-6d5f-4034-bd54-f9a10cdab933"
      },
      "execution_count": 2,
      "outputs": [
        {
          "output_type": "stream",
          "name": "stdout",
          "text": [
            "      Category Sub-Category Region  Sales        Date\n",
            "0  Electronics       Mobile  North    200  2023-01-01\n",
            "1  Electronics       Laptop  South    300  2023-01-02\n",
            "2    Furniture        Chair   East    150  2023-01-03\n",
            "3    Furniture        Table   West    350  2023-01-04\n",
            "4     Clothing          Men  North    100  2023-01-05\n",
            "5     Clothing        Women  South    250  2023-01-06\n"
          ]
        }
      ]
    },
    {
      "cell_type": "markdown",
      "source": [
        "Apply Axis0"
      ],
      "metadata": {
        "id": "SpBmK1JjzVlY"
      }
    },
    {
      "cell_type": "code",
      "source": [
        "import pandas as pd\n",
        "import numpy as np\n",
        "\n",
        "# Sample sales data with additional columns\n",
        "data = {\n",
        "    'Category': ['Electronics', 'Electronics', 'Furniture', 'Furniture', 'Clothing', 'Clothing'],\n",
        "    'Sub-Category': ['Mobile', 'Laptop', 'Chair', 'Table', 'Men', 'Women'],\n",
        "    'Sales': [100, 200, 150, 300, 120, 180],\n",
        "    'Quantity': [10, 5, 8, 3, 15, 12],\n",
        "    'Date': ['2023-01-01', '2023-01-02', '2023-01-03', '2023-01-04', '2023-01-05', '2023-01-06']\n",
        "}\n",
        "df = pd.DataFrame(data)\n",
        "\n",
        "# Convert 'Date' column to datetime format\n",
        "df['Date'] = pd.to_datetime(df['Date'])\n",
        "\n",
        "# Define a custom function to compute multiple statistics for 'Sales' and 'Quantity'\n",
        "def compute_statistics(series):\n",
        "    sum_sales = series['Sales'].sum()\n",
        "    mean_sales = series['Sales'].mean()\n",
        "    std_sales = series['Sales'].std()\n",
        "    cv_sales = std_sales / mean_sales\n",
        "\n",
        "    sum_quantity = series['Quantity'].sum()\n",
        "    mean_quantity = series['Quantity'].mean()\n",
        "    std_quantity = series['Quantity'].std()\n",
        "    cv_quantity = std_quantity / mean_quantity\n",
        "\n",
        "    return pd.Series([sum_sales, mean_sales, std_sales, cv_sales, sum_quantity, mean_quantity, std_quantity, cv_quantity],\n",
        "                     index=['Sum_Sales', 'Mean_Sales', 'Std_Sales', 'CV_Sales',\n",
        "                            'Sum_Quantity', 'Mean_Quantity', 'Std_Quantity', 'CV_Quantity'])\n",
        "\n",
        "# Group by 'Category' and apply custom function to compute statistics of 'Sales' and 'Quantity'\n",
        "result_complex = df.groupby('Category').apply(compute_statistics).reset_index()\n",
        "\n",
        "print(\"Using apply() for complex function (multiple statistics calculation for 'Sales' and 'Quantity'):\")\n",
        "print(result_complex)"
      ],
      "metadata": {
        "colab": {
          "base_uri": "https://localhost:8080/"
        },
        "id": "vncttrCQzXlC",
        "outputId": "337cc92d-9839-4246-c722-f68e1637cee7"
      },
      "execution_count": 3,
      "outputs": [
        {
          "output_type": "stream",
          "name": "stdout",
          "text": [
            "Using apply() for complex function (multiple statistics calculation for 'Sales' and 'Quantity'):\n",
            "      Category  Sum_Sales  Mean_Sales   Std_Sales  CV_Sales  Sum_Quantity  \\\n",
            "0     Clothing      300.0       150.0   42.426407  0.282843          27.0   \n",
            "1  Electronics      300.0       150.0   70.710678  0.471405          15.0   \n",
            "2    Furniture      450.0       225.0  106.066017  0.471405          11.0   \n",
            "\n",
            "   Mean_Quantity  Std_Quantity  CV_Quantity  \n",
            "0           13.5      2.121320     0.157135  \n",
            "1            7.5      3.535534     0.471405  \n",
            "2            5.5      3.535534     0.642824  \n"
          ]
        }
      ]
    },
    {
      "cell_type": "markdown",
      "source": [
        "Apply Axis1"
      ],
      "metadata": {
        "id": "u7S8DJfKzZqI"
      }
    },
    {
      "cell_type": "code",
      "source": [
        "import pandas as pd\n",
        "import numpy as np\n",
        "\n",
        "# Sample sales data with additional columns\n",
        "data = {\n",
        "    'Category': ['Electronics', 'Electronics', 'Furniture', 'Furniture', 'Clothing', 'Clothing'],\n",
        "    'Sub-Category': ['Mobile', 'Laptop', 'Chair', 'Table', 'Men', 'Women'],\n",
        "    'Sales': [100, 200, 150, 300, 120, 180],\n",
        "    'Quantity': [10, 5, 8, 3, 15, 12],\n",
        "    'Date': ['2023-01-01', '2023-01-02', '2023-01-03', '2023-01-04', '2023-01-05', '2023-01-06']\n",
        "}\n",
        "df = pd.DataFrame(data)\n",
        "\n",
        "# Convert 'Date' column to datetime format\n",
        "df['Date'] = pd.to_datetime(df['Date'])\n",
        "\n",
        "# Define a function to compute Total_Sales_Quantity and Sales_Quantity_Ratio\n",
        "def compute_metrics(row):\n",
        "    total_sales_quantity = row['Sales'] + row['Quantity']\n",
        "    sales_quantity_ratio = row['Sales'] / row['Quantity'] if row['Quantity'] != 0 else np.nan\n",
        "    return pd.Series([total_sales_quantity, sales_quantity_ratio], index=['Total_Sales_Quantity', 'Sales_Quantity_Ratio'])\n",
        "\n",
        "# Apply the function row-wise (axis=1) to calculate new metrics\n",
        "df[['Total_Sales_Quantity', 'Sales_Quantity_Ratio']] = df.apply(compute_metrics, axis=1)\n",
        "\n",
        "# Group by 'Category' to calculate metrics per category\n",
        "category_metrics = df.groupby('Category')[['Total_Sales_Quantity', 'Sales_Quantity_Ratio']].mean().reset_index()\n",
        "\n",
        "print(\"DataFrame with Total_Sales_Quantity and Sales_Quantity_Ratio per Category:\")\n",
        "print(category_metrics)"
      ],
      "metadata": {
        "colab": {
          "base_uri": "https://localhost:8080/"
        },
        "id": "ZuqB718uzilo",
        "outputId": "d126a79e-9a9d-43b1-a0dd-d7fe750b7acb"
      },
      "execution_count": 4,
      "outputs": [
        {
          "output_type": "stream",
          "name": "stdout",
          "text": [
            "DataFrame with Total_Sales_Quantity and Sales_Quantity_Ratio per Category:\n",
            "      Category  Total_Sales_Quantity  Sales_Quantity_Ratio\n",
            "0     Clothing                 163.5                11.500\n",
            "1  Electronics                 157.5                25.000\n",
            "2    Furniture                 230.5                59.375\n"
          ]
        }
      ]
    },
    {
      "cell_type": "markdown",
      "source": [
        "Simple Filtering"
      ],
      "metadata": {
        "id": "sJcSVSN2zonh"
      }
    },
    {
      "cell_type": "code",
      "source": [
        "import pandas as pd\n",
        "\n",
        "# Sample sales data\n",
        "data = {\n",
        "    'Category': ['Electronics', 'Electronics', 'Furniture', 'Furniture', 'Clothing', 'Clothing'],\n",
        "    'Sub-Category': ['Mobile', 'Laptop', 'Chair', 'Table', 'Men', 'Women'],\n",
        "    'Sales': [100, 200, 150, 300, 120, 180],\n",
        "    'Quantity': [10, 5, 8, 3, 15, 12],\n",
        "    'Date': ['2023-01-01', '2023-01-02', '2023-01-03', '2023-01-04', '2023-01-05', '2023-01-06']\n",
        "}\n",
        "df = pd.DataFrame(data)\n",
        "\n",
        "# Filter to show products with quantity > 10\n",
        "filtered_data = df[df['Quantity'] > 10]\n",
        "\n",
        "print(\"Filtered Data:\")\n",
        "print(filtered_data)"
      ],
      "metadata": {
        "colab": {
          "base_uri": "https://localhost:8080/"
        },
        "id": "pHJEOq1kzqdj",
        "outputId": "fd0c5249-b0d7-49dd-a036-d68a3bd0da42"
      },
      "execution_count": 5,
      "outputs": [
        {
          "output_type": "stream",
          "name": "stdout",
          "text": [
            "Filtered Data:\n",
            "   Category Sub-Category  Sales  Quantity        Date\n",
            "4  Clothing          Men    120        15  2023-01-05\n",
            "5  Clothing        Women    180        12  2023-01-06\n"
          ]
        }
      ]
    },
    {
      "cell_type": "markdown",
      "source": [
        "Advanced Filtering"
      ],
      "metadata": {
        "id": "1P_JDXIIzsTW"
      }
    },
    {
      "cell_type": "code",
      "source": [
        "import pandas as pd\n",
        "\n",
        "# Sample sales data with additional columns\n",
        "data = {\n",
        "    'Category': ['Electronics', 'Electronics', 'Electronics', 'Electronics', 'Electronics', 'Electronics'],\n",
        "    'Sub-Category': ['Mobile', 'Laptop', 'Tablet', 'Headphones', 'Smartwatch', 'Printer'],\n",
        "    'Sales': [1000, 1500, 800, 300, 400, 600],\n",
        "    'Quantity': [50, 25, 40, 15, 20, 30],\n",
        "    'Date': ['2023-01-01', '2023-01-02', '2023-01-03', '2023-01-04', '2023-01-05', '2023-01-06']\n",
        "}\n",
        "df = pd.DataFrame(data)\n",
        "\n",
        "# Convert 'Date' column to datetime format\n",
        "df['Date'] = pd.to_datetime(df['Date'])\n",
        "\n",
        "# Filter criteria: Sales greater than 1000 and Quantity less than 30\n",
        "filtered_data = df[(df['Sales'] > 1000) & (df['Quantity'] < 30)]\n",
        "\n",
        "print(\"Filtered Data based on Multiple Criteria:\")\n",
        "print(filtered_data)"
      ],
      "metadata": {
        "colab": {
          "base_uri": "https://localhost:8080/"
        },
        "id": "ONu0YHQwzvJ-",
        "outputId": "c29888a6-cf27-4f29-df2d-e499b7a638b8"
      },
      "execution_count": 6,
      "outputs": [
        {
          "output_type": "stream",
          "name": "stdout",
          "text": [
            "Filtered Data based on Multiple Criteria:\n",
            "      Category Sub-Category  Sales  Quantity       Date\n",
            "1  Electronics       Laptop   1500        25 2023-01-02\n"
          ]
        }
      ]
    }
  ]
}