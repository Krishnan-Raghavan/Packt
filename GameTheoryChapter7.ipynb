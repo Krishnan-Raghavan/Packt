{
  "nbformat": 4,
  "nbformat_minor": 0,
  "metadata": {
    "colab": {
      "provenance": [],
      "authorship_tag": "ABX9TyN2Rn8rgyDezH1J4NIPlAaM",
      "include_colab_link": true
    },
    "kernelspec": {
      "name": "python3",
      "display_name": "Python 3"
    },
    "language_info": {
      "name": "python"
    }
  },
  "cells": [
    {
      "cell_type": "markdown",
      "metadata": {
        "id": "view-in-github",
        "colab_type": "text"
      },
      "source": [
        "<a href=\"https://colab.research.google.com/github/Krishnan-Raghavan/Packt/blob/main/GameTheoryChapter7.ipynb\" target=\"_parent\"><img src=\"https://colab.research.google.com/assets/colab-badge.svg\" alt=\"Open In Colab\"/></a>"
      ]
    },
    {
      "cell_type": "code",
      "execution_count": 4,
      "metadata": {
        "colab": {
          "base_uri": "https://localhost:8080/",
          "height": 383
        },
        "id": "ciM6zw0sOE9o",
        "outputId": "b3d56160-af78-4982-ce47-8b4aa28404ef"
      },
      "outputs": [
        {
          "output_type": "error",
          "ename": "ModuleNotFoundError",
          "evalue": "No module named 'tictactoe_board'",
          "traceback": [
            "\u001b[0;31m---------------------------------------------------------------------------\u001b[0m",
            "\u001b[0;31mModuleNotFoundError\u001b[0m                       Traceback (most recent call last)",
            "\u001b[0;32m<ipython-input-4-e34441dd0816>\u001b[0m in \u001b[0;36m<cell line: 2>\u001b[0;34m()\u001b[0m\n\u001b[1;32m      1\u001b[0m \u001b[0;31m# play_tictactoe.py\u001b[0m\u001b[0;34m\u001b[0m\u001b[0;34m\u001b[0m\u001b[0m\n\u001b[0;32m----> 2\u001b[0;31m \u001b[0;32mfrom\u001b[0m \u001b[0mtictactoe_board\u001b[0m \u001b[0;32mimport\u001b[0m \u001b[0mTicTacToeBoard\u001b[0m\u001b[0;34m\u001b[0m\u001b[0;34m\u001b[0m\u001b[0m\n\u001b[0m\u001b[1;32m      3\u001b[0m \u001b[0;32mfrom\u001b[0m \u001b[0mtictactoe_types\u001b[0m \u001b[0;32mimport\u001b[0m \u001b[0mPlayer\u001b[0m\u001b[0;34m,\u001b[0m \u001b[0mMove\u001b[0m\u001b[0;34m\u001b[0m\u001b[0;34m\u001b[0m\u001b[0m\n\u001b[1;32m      4\u001b[0m \u001b[0;32mfrom\u001b[0m \u001b[0mtictactoe_ai\u001b[0m \u001b[0;32mimport\u001b[0m \u001b[0mTicTacToeAI\u001b[0m\u001b[0;34m\u001b[0m\u001b[0;34m\u001b[0m\u001b[0m\n\u001b[1;32m      5\u001b[0m \u001b[0;34m\u001b[0m\u001b[0m\n",
            "\u001b[0;31mModuleNotFoundError\u001b[0m: No module named 'tictactoe_board'",
            "",
            "\u001b[0;31m---------------------------------------------------------------------------\u001b[0;32m\nNOTE: If your import is failing due to a missing package, you can\nmanually install dependencies using either !pip or !apt.\n\nTo view examples of installing some common dependencies, click the\n\"Open Examples\" button below.\n\u001b[0;31m---------------------------------------------------------------------------\u001b[0m\n"
          ],
          "errorDetails": {
            "actions": [
              {
                "action": "open_url",
                "actionText": "Open Examples",
                "url": "/notebooks/snippets/importing_libraries.ipynb"
              }
            ]
          }
        }
      ],
      "source": [
        "# play_tictactoe.py\n",
        "from tictactoe_board import TicTacToeBoard\n",
        "from tictactoe_types import Player, Move\n",
        "from tictactoe_ai import TicTacToeAI\n",
        "\n",
        "def main():\n",
        "    \"\"\"\n",
        "    Main function to run the Tic Tac Toe game.\n",
        "    \"\"\"\n",
        "    board = TicTacToeBoard()\n",
        "    player = Player.X\n",
        "    ai = TicTacToeAI(player)\n",
        "\n",
        "    while not board.is_full() and not board.is_winner(Player.X) and not board.is_winner(Player.O):\n",
        "        print_board(board)\n",
        "        if player == Player.X:\n",
        "            move = ai.best_move(board)\n",
        "        else:\n",
        "            move = get_human_move(board)\n",
        "        board.make_move(move, player)\n",
        "        player = player.opponent()\n",
        "\n",
        "    print_board(board)\n",
        "    if board.is_winner(Player.X):\n",
        "        print(\"Player X wins!\")\n",
        "    elif board.is_winner(Player.O):\n",
        "        print(\"Player O wins!\")\n",
        "    else:\n",
        "        print(\"It's a tie!\")\n",
        "\n",
        "def get_human_move(board):\n",
        "    \"\"\"\n",
        "    Prompts the human player to enter a move and validates the input.\n",
        "    \"\"\"\n",
        "    while True:\n",
        "        try:\n",
        "            move = int(input(\"Enter your move (0-8): \"))\n",
        "            if move in [m.position for m in board.available_moves()]:\n",
        "                return Move(move)\n",
        "            else:\n",
        "                print(\"Invalid move. Try again.\")\n",
        "        except ValueError:\n",
        "            print(\"Invalid input. Enter a number between 0 and 8.\")\n",
        "\n",
        "def print_board(board):\n",
        "    \"\"\"\n",
        "    Prints the current state of the board.\n",
        "    \"\"\"\n",
        "    for i in range(0, 9, 3):\n",
        "        row = [board.board[i + j].value if board.board[i + j] is not None else '-' for j in range(3)]\n",
        "        print(' '.join(row))\n",
        "    print()\n",
        "\n",
        "if __name__ == \"__main__\":\n",
        "    main()"
      ]
    },
    {
      "cell_type": "code",
      "source": [
        "# tictactoe_ai.py\n",
        "from tictactoe_board import TicTacToeBoard\n",
        "from tictactoe_types import Move, Player\n",
        "\n",
        "class TicTacToeAI:\n",
        "    \"\"\"\n",
        "    Minimax algorithm implementation for Tic Tac Toe.\n",
        "    \"\"\"\n",
        "    def __init__(self, player: Player):\n",
        "        self.player = player\n",
        "        self.evaluated_states = 0\n",
        "\n",
        "    def best_move(self, board: TicTacToeBoard) -> Move:\n",
        "        \"\"\"\n",
        "        Determines the best move for the current player using the Minimax algorithm.\n",
        "        \"\"\"\n",
        "        best_value = -float('inf')\n",
        "        best_move = None\n",
        "        for move in board.available_moves():\n",
        "            board.make_move(move, self.player)\n",
        "            value = self._evaluate(board, False)\n",
        "            board.undo_move(move)\n",
        "            if value > best_value:\n",
        "                best_value = value\n",
        "                best_move = move\n",
        "        return best_move\n",
        "\n",
        "    def _evaluate(self, board: TicTacToeBoard, is_maximizing: bool) -> float:\n",
        "        \"\"\"\n",
        "        Recursively evaluates the board states to determine the best move.\n",
        "        \"\"\"\n",
        "        self.evaluated_states += 1  # Increment the counter\n",
        "        if board.is_winner(self.player):\n",
        "            return 1\n",
        "        elif board.is_winner(self.player.opponent()):\n",
        "            return -1\n",
        "        elif board.is_full():\n",
        "            return 0\n",
        "\n",
        "        if is_maximizing:\n",
        "            best_value = -float('inf')\n",
        "            for move in board.available_moves():\n",
        "                board.make_move(move, self.player)\n",
        "                value = self._evaluate(board, False)\n",
        "                board.undo_move(move)\n",
        "                best_value = max(best_value, value)\n",
        "            return best_value\n",
        "        else:\n",
        "            best_value = float('inf')\n",
        "            for move in board.available_moves():\n",
        "                board.make_move(move, self.player.opponent())\n",
        "                value = self._evaluate(board, True)\n",
        "                board.undo_move(move)\n",
        "                best_value = min(best_value, value)\n",
        "            return best_value"
      ],
      "metadata": {
        "id": "l0SuhRxAOdnX"
      },
      "execution_count": null,
      "outputs": []
    },
    {
      "cell_type": "code",
      "source": [
        "# tictactoe_board.py\n",
        "from tictactoe_types import Move, Player\n",
        "\n",
        "class TicTacToeBoard:\n",
        "    \"\"\"\n",
        "    Represents the Tic Tac Toe board and handles the game state.\n",
        "    \"\"\"\n",
        "    def __init__(self):\n",
        "        self.board = [None] * 9\n",
        "\n",
        "    def make_move(self, move: Move, player: Player):\n",
        "        \"\"\"\n",
        "        Places the player's mark on the board at the specified position.\n",
        "        \"\"\"\n",
        "        if self.board[move.position] is None:\n",
        "            self.board[move.position] = player\n",
        "\n",
        "    def undo_move(self, move: Move):\n",
        "        \"\"\"\n",
        "        Removes the player's mark from the board at the specified position.\n",
        "        \"\"\"\n",
        "        self.board[move.position] = None\n",
        "\n",
        "    def available_moves(self):\n",
        "        \"\"\"\n",
        "        Returns a list of available moves on the board.\n",
        "        \"\"\"\n",
        "        return [Move(i) for i, x in enumerate(self.board) if x is None]\n",
        "\n",
        "    def is_winner(self, player: Player) -> bool:\n",
        "        \"\"\"\n",
        "        Checks if the specified player has won the game.\n",
        "        \"\"\"\n",
        "        winning_combinations = [\n",
        "            (0, 1, 2), (3, 4, 5), (6, 7, 8),  # rows\n",
        "            (0, 3, 6), (1, 4, 7), (2, 5, 8),  # columns\n",
        "            (0, 4, 8), (2, 4, 6)  # diagonals\n",
        "        ]\n",
        "        return any(all(self.board[i] == player for i in combo) for combo in winning_combinations)\n",
        "\n",
        "    def is_full(self) -> bool:\n",
        "        \"\"\"\n",
        "        Checks if the board is full.\n",
        "        \"\"\"\n",
        "        return all(x is not None for x in self.board)"
      ],
      "metadata": {
        "id": "NM0F42k6Ohwe"
      },
      "execution_count": null,
      "outputs": []
    },
    {
      "cell_type": "code",
      "source": [
        "# tictactoe_types.py\n",
        "from enum import Enum\n",
        "\n",
        "class Player(Enum):\n",
        "    \"\"\"\n",
        "    Represents a player in the Tic Tac Toe game.\n",
        "    \"\"\"\n",
        "    X = 'X'\n",
        "    O = 'O'\n",
        "\n",
        "    def opponent(self):\n",
        "        \"\"\"\n",
        "        Returns the opponent of the current player.\n",
        "        \"\"\"\n",
        "        return Player.X if self == Player.O else Player.O\n",
        "\n",
        "class Move:\n",
        "    \"\"\"\n",
        "    Represents a move in the Tic Tac Toe game.\n",
        "    \"\"\"\n",
        "    def __init__(self, position: int):\n",
        "        self.position = position"
      ],
      "metadata": {
        "id": "l6CltgEROmtT"
      },
      "execution_count": null,
      "outputs": []
    }
  ]
}